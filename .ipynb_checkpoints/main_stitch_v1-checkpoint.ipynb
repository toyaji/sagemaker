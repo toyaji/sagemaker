{
 "cells": [
  {
   "cell_type": "code",
   "execution_count": 1,
   "metadata": {},
   "outputs": [],
   "source": [
    "import numpy as np\n",
    "import cv2\n",
    "from matplotlib import pyplot as plt"
   ]
  },
  {
   "cell_type": "code",
   "execution_count": 2,
   "metadata": {},
   "outputs": [],
   "source": [
    "rimg = cv2.imread('./data/right_img.jpg')\n",
    "limg = cv2.imread('./data/left_img.jpg')"
   ]
  },
  {
   "cell_type": "code",
   "execution_count": 3,
   "metadata": {},
   "outputs": [],
   "source": [
    "def myshow(img):\n",
    "    plt.figure(figsize={12, 8})\n",
    "    plt.imshow(img)\n",
    "    plt.show()"
   ]
  },
  {
   "cell_type": "code",
   "execution_count": 4,
   "metadata": {},
   "outputs": [],
   "source": [
    "feature_finder = cv2.ORB.create()\n",
    "features = []\n",
    "for img in [limg, rimg]:\n",
    "    img_features = cv2.detail.computeImageFeatures2(feature_finder, img)\n",
    "    features.append(img_features)"
   ]
  },
  {
   "cell_type": "code",
   "execution_count": 5,
   "metadata": {},
   "outputs": [],
   "source": [
    "des1, des2 = features[0].descriptors, features[1].descriptors"
   ]
  },
  {
   "cell_type": "code",
   "execution_count": 14,
   "metadata": {},
   "outputs": [],
   "source": [
    "des1 = np.asarray(des1.get(), np.float32)\n",
    "des2 = np.asarray(des2.get(), np.float32)"
   ]
  },
  {
   "cell_type": "code",
   "execution_count": 16,
   "metadata": {},
   "outputs": [],
   "source": [
    "FLANN_INDEX_KDTREE = 0\n",
    "index_params = dict(algorithm = FLANN_INDEX_KDTREE, trees = 5)\n",
    "search_params = dict(checks = 50)\n",
    "flann = cv2.FlannBasedMatcher(index_params, search_params)\n",
    "matches = flann.knnMatch(des1,des2,k=2)\n",
    "# store all the good matches as per Lowe's ratio test.\n",
    "good = []\n",
    "for m,n in matches:\n",
    "    if m.distance < 0.7*n.distance:\n",
    "        good.append(m)"
   ]
  },
  {
   "cell_type": "code",
   "execution_count": 18,
   "metadata": {},
   "outputs": [
    {
     "data": {
      "text/plain": [
       "[<DMatch 0x7fd9ac4476d0>,\n",
       " <DMatch 0x7fd9ac447790>,\n",
       " <DMatch 0x7fd9ab9c6810>,\n",
       " <DMatch 0x7fd9ab9c5290>,\n",
       " <DMatch 0x7fd9ab9c5650>,\n",
       " <DMatch 0x7fd9ab9c58d0>,\n",
       " <DMatch 0x7fd9ab9c5910>,\n",
       " <DMatch 0x7fd9ab9cc7d0>,\n",
       " <DMatch 0x7fd9ab9cc850>,\n",
       " <DMatch 0x7fd9ab9cead0>,\n",
       " <DMatch 0x7fd9ab9cefd0>,\n",
       " <DMatch 0x7fd9ab9d1510>,\n",
       " <DMatch 0x7fd9ab9d1790>,\n",
       " <DMatch 0x7fd9ab9d3610>,\n",
       " <DMatch 0x7fd9ab9d3850>,\n",
       " <DMatch 0x7fd9ab9d3d10>,\n",
       " <DMatch 0x7fd9ab9d3d90>]"
      ]
     },
     "execution_count": 18,
     "metadata": {},
     "output_type": "execute_result"
    }
   ],
   "source": [
    "good"
   ]
  },
  {
   "cell_type": "code",
   "execution_count": null,
   "metadata": {},
   "outputs": [],
   "source": []
  }
 ],
 "metadata": {
  "kernelspec": {
   "display_name": "conda_amazonei_tensorflow_p36",
   "language": "python",
   "name": "conda_amazonei_tensorflow_p36"
  },
  "language_info": {
   "codemirror_mode": {
    "name": "ipython",
    "version": 3
   },
   "file_extension": ".py",
   "mimetype": "text/x-python",
   "name": "python",
   "nbconvert_exporter": "python",
   "pygments_lexer": "ipython3",
   "version": "3.6.10"
  }
 },
 "nbformat": 4,
 "nbformat_minor": 4
}
